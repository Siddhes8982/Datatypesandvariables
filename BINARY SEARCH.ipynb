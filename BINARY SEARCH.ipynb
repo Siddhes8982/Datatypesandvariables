{
 "cells": [
  {
   "cell_type": "code",
   "execution_count": 14,
   "id": "173fd8dc",
   "metadata": {},
   "outputs": [],
   "source": [
    "data=[89,67,45,23,89,65,745,69,90,75,54,80,62,99,91,87,48,86]"
   ]
  },
  {
   "cell_type": "code",
   "execution_count": 15,
   "id": "3872a94c",
   "metadata": {},
   "outputs": [],
   "source": [
    "data.sort()"
   ]
  },
  {
   "cell_type": "code",
   "execution_count": 16,
   "id": "364a96bc",
   "metadata": {},
   "outputs": [
    {
     "name": "stdout",
     "output_type": "stream",
     "text": [
      "[23, 45, 48, 54, 62, 65, 67, 69, 75, 80, 86, 87, 89, 89, 90, 91, 99, 745]\n"
     ]
    }
   ],
   "source": [
    "print(data)"
   ]
  },
  {
   "cell_type": "code",
   "execution_count": 17,
   "id": "ff86b285",
   "metadata": {},
   "outputs": [
    {
     "name": "stdout",
     "output_type": "stream",
     "text": [
      "Enter the search element: 45\n"
     ]
    }
   ],
   "source": [
    "elem=int(input(\"Enter the search element: \"))"
   ]
  },
  {
   "cell_type": "code",
   "execution_count": 18,
   "id": "7821867c",
   "metadata": {
    "scrolled": true
   },
   "outputs": [
    {
     "data": {
      "text/plain": [
       "45"
      ]
     },
     "execution_count": 18,
     "metadata": {},
     "output_type": "execute_result"
    }
   ],
   "source": [
    "elem"
   ]
  },
  {
   "cell_type": "code",
   "execution_count": 19,
   "id": "76922fdc",
   "metadata": {},
   "outputs": [
    {
     "name": "stdout",
     "output_type": "stream",
     "text": [
      "Enter the search element:45\n"
     ]
    }
   ],
   "source": [
    "element=int(input(\"Enter the search element:\"))"
   ]
  },
  {
   "cell_type": "code",
   "execution_count": 12,
   "id": "dc6cf45b",
   "metadata": {},
   "outputs": [],
   "source": [
    "def binary_search(data, element):\n",
    "    low=0\n",
    "    high=len(data)-1\n",
    "    while low<=high:\n",
    "        middle=(low+high)//2\n",
    "        if data[middle]==element:\n",
    "            print(f\"The searching element {element} is present at index value {middle} in dataset\")\n",
    "            break\n",
    "        elif data[middle]>element:\n",
    "            high=middle-1\n",
    "        else:\n",
    "            low=middle+1\n",
    "    if data[middle]!=element:\n",
    "        print(f\"The searching element {element} is not present in the dataset\")\n",
    "        return"
   ]
  },
  {
   "cell_type": "code",
   "execution_count": 20,
   "id": "27dadf60",
   "metadata": {},
   "outputs": [
    {
     "name": "stdout",
     "output_type": "stream",
     "text": [
      "The searching element 45 is present at index value 1 in dataset\n"
     ]
    }
   ],
   "source": [
    "binary_search(data,element)"
   ]
  },
  {
   "cell_type": "code",
   "execution_count": null,
   "id": "9e7e34d7",
   "metadata": {},
   "outputs": [],
   "source": []
  }
 ],
 "metadata": {
  "kernelspec": {
   "display_name": "Python 3 (ipykernel)",
   "language": "python",
   "name": "python3"
  },
  "language_info": {
   "codemirror_mode": {
    "name": "ipython",
    "version": 3
   },
   "file_extension": ".py",
   "mimetype": "text/x-python",
   "name": "python",
   "nbconvert_exporter": "python",
   "pygments_lexer": "ipython3",
   "version": "3.11.4"
  }
 },
 "nbformat": 4,
 "nbformat_minor": 5
}
