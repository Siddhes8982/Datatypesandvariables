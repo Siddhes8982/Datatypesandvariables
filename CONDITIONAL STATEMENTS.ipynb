{
 "cells": [
  {
   "cell_type": "code",
   "execution_count": 1,
   "id": "61033381",
   "metadata": {},
   "outputs": [],
   "source": [
    "a=30"
   ]
  },
  {
   "cell_type": "code",
   "execution_count": 2,
   "id": "98e59a8a",
   "metadata": {},
   "outputs": [
    {
     "name": "stdout",
     "output_type": "stream",
     "text": [
      "pass\n"
     ]
    }
   ],
   "source": [
    "if a==30:\n",
    "    print(\"pass\")\n",
    "else:\n",
    "    print(\"fail\")"
   ]
  },
  {
   "cell_type": "code",
   "execution_count": 3,
   "id": "f3ac9a19",
   "metadata": {},
   "outputs": [],
   "source": [
    "b=80"
   ]
  },
  {
   "cell_type": "code",
   "execution_count": 4,
   "id": "f4672b3b",
   "metadata": {},
   "outputs": [
    {
     "name": "stdout",
     "output_type": "stream",
     "text": [
      "pass\n"
     ]
    }
   ],
   "source": [
    "if b==80:\n",
    "    print(\"pass\")\n",
    "else:\n",
    "    print(\"fail\")"
   ]
  },
  {
   "cell_type": "code",
   "execution_count": 5,
   "id": "286a0fff",
   "metadata": {},
   "outputs": [
    {
     "name": "stdout",
     "output_type": "stream",
     "text": [
      "Enter your age: 19\n",
      "you are eligible for voting\n"
     ]
    }
   ],
   "source": [
    "age=int(input(\"Enter your age: \"))\n",
    "if age>=19:\n",
    "    print(\"you are eligible for voting\")\n",
    "else:\n",
    "    print(\"you are not eligile for voting\")"
   ]
  },
  {
   "cell_type": "code",
   "execution_count": 6,
   "id": "38e1f391",
   "metadata": {},
   "outputs": [
    {
     "name": "stdout",
     "output_type": "stream",
     "text": [
      "Enter your age: 19\n",
      "you are eligible for voting\n",
      "Enter your name: SIDDHESWAR\n",
      "Enter your Area: 429,Maniyarpuram,Kandiyan St,Pattukkottai\n"
     ]
    }
   ],
   "source": [
    "age=int(input(\"Enter your age: \"))\n",
    "if age>=19:\n",
    "    print(\"you are eligible for voting\")\n",
    "    Name=input(\"Enter your name: \")\n",
    "    Location=input(\"Enter your Area: \")\n",
    "else:\n",
    "    print(\"you are not eligile for voting\")"
   ]
  },
  {
   "cell_type": "code",
   "execution_count": 7,
   "id": "b3709ae0",
   "metadata": {},
   "outputs": [
    {
     "name": "stdout",
     "output_type": "stream",
     "text": [
      "Enter your age: 18\n",
      "you are eligible for voting\n"
     ]
    }
   ],
   "source": [
    "age=int(input(\"Enter your age: \"))\n",
    "if age>=18:\n",
    "    print(\"you are eligible for voting\")\n",
    "else:\n",
    "    print(\"you are not eligile for voting\")"
   ]
  },
  {
   "cell_type": "code",
   "execution_count": 8,
   "id": "262c7fb2",
   "metadata": {},
   "outputs": [
    {
     "name": "stdout",
     "output_type": "stream",
     "text": [
      "Enter your age: 18\n",
      "you are eligible for voting\n",
      "Enter your name: RITHISH BALAJI\n",
      "Enter your Area: Indra Nagar,MC Road,Thanjavur\n"
     ]
    }
   ],
   "source": [
    "age=int(input(\"Enter your age: \"))\n",
    "if age>=18:\n",
    "    print(\"you are eligible for voting\")\n",
    "    Name=input(\"Enter your name: \")\n",
    "    Location=input(\"Enter your Area: \")\n",
    "else:\n",
    "    print(\"you are not eligile for voting\")"
   ]
  },
  {
   "cell_type": "code",
   "execution_count": 9,
   "id": "f22a87cc",
   "metadata": {},
   "outputs": [
    {
     "name": "stdout",
     "output_type": "stream",
     "text": [
      "Enter your age: 19\n",
      "you are eligible for voting\n",
      "Enter your name: SIDDHESWAR\n",
      "Enter your Area: 429,Maniyarpuram,Kandiyan St,Pattukkottai\n",
      "Thank you for entering your details: \n"
     ]
    }
   ],
   "source": [
    "age=int(input(\"Enter your age: \"))\n",
    "if age>=19:\n",
    "    print(\"you are eligible for voting\")\n",
    "    Name=input(\"Enter your name: \")\n",
    "    Location=input(\"Enter your Area: \")\n",
    "    print(\"Thank you for entering your details: \")\n",
    "else:\n",
    "    print(\"you are not eligile for voting\")"
   ]
  },
  {
   "cell_type": "code",
   "execution_count": 11,
   "id": "db010b0f",
   "metadata": {},
   "outputs": [
    {
     "name": "stdout",
     "output_type": "stream",
     "text": [
      "Enter your age: 18\n",
      "you are eligible for voting\n",
      "Enter your name: RITHISH BALAJI\n",
      "Enter your Area: Indra Nagar,MC Road,Thanjavur\n",
      "Thank you for entering your details: \n"
     ]
    }
   ],
   "source": [
    "age=int(input(\"Enter your age: \"))\n",
    "if age>=18:\n",
    "    print(\"you are eligible for voting\")\n",
    "    Name=input(\"Enter your name: \")\n",
    "    Location=input(\"Enter your Area: \")\n",
    "    print(\"Thank you for entering your details: \")\n",
    "else:\n",
    "    print(\"you are not eligile for voting\")"
   ]
  },
  {
   "cell_type": "code",
   "execution_count": null,
   "id": "89ed5b4c",
   "metadata": {},
   "outputs": [],
   "source": []
  }
 ],
 "metadata": {
  "kernelspec": {
   "display_name": "Python 3 (ipykernel)",
   "language": "python",
   "name": "python3"
  },
  "language_info": {
   "codemirror_mode": {
    "name": "ipython",
    "version": 3
   },
   "file_extension": ".py",
   "mimetype": "text/x-python",
   "name": "python",
   "nbconvert_exporter": "python",
   "pygments_lexer": "ipython3",
   "version": "3.9.17"
  }
 },
 "nbformat": 4,
 "nbformat_minor": 5
}
