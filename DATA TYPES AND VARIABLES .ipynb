{
 "cells": [
  {
   "cell_type": "code",
   "execution_count": 11,
   "id": "ffc87269",
   "metadata": {},
   "outputs": [],
   "source": [
    "NAMES={1:'SIDDHES',2:'PARANDHAMAN',3:'JAYAPRAKASH'}"
   ]
  },
  {
   "cell_type": "code",
   "execution_count": 12,
   "id": "ffa039c7",
   "metadata": {
    "scrolled": true
   },
   "outputs": [
    {
     "data": {
      "text/plain": [
       "dict"
      ]
     },
     "execution_count": 12,
     "metadata": {},
     "output_type": "execute_result"
    }
   ],
   "source": [
    "type(NAMES)"
   ]
  },
  {
   "cell_type": "code",
   "execution_count": 13,
   "id": "638592f8",
   "metadata": {},
   "outputs": [
    {
     "name": "stdout",
     "output_type": "stream",
     "text": [
      "^C\n",
      "Note: you may need to restart the kernel to use updated packages.\n"
     ]
    }
   ],
   "source": [
    "pip install numpy"
   ]
  },
  {
   "cell_type": "code",
   "execution_count": 14,
   "id": "1e0bf9fb",
   "metadata": {},
   "outputs": [
    {
     "data": {
      "text/plain": [
       "dict_keys([1, 2, 3])"
      ]
     },
     "execution_count": 14,
     "metadata": {},
     "output_type": "execute_result"
    }
   ],
   "source": [
    "NAMES.keys()"
   ]
  },
  {
   "cell_type": "code",
   "execution_count": 15,
   "id": "8853b55d",
   "metadata": {},
   "outputs": [
    {
     "data": {
      "text/plain": [
       "'SIDDHES'"
      ]
     },
     "execution_count": 15,
     "metadata": {},
     "output_type": "execute_result"
    }
   ],
   "source": [
    "NAMES[1]"
   ]
  },
  {
   "cell_type": "code",
   "execution_count": 16,
   "id": "85a8324c",
   "metadata": {},
   "outputs": [
    {
     "data": {
      "text/plain": [
       "'JAYAPRAKASH'"
      ]
     },
     "execution_count": 16,
     "metadata": {},
     "output_type": "execute_result"
    }
   ],
   "source": [
    "NAMES[3]"
   ]
  },
  {
   "cell_type": "code",
   "execution_count": 17,
   "id": "7b10bd5a",
   "metadata": {},
   "outputs": [],
   "source": [
    "NAMES[1]=\"ARUN\""
   ]
  },
  {
   "cell_type": "code",
   "execution_count": 18,
   "id": "62af947f",
   "metadata": {},
   "outputs": [
    {
     "data": {
      "text/plain": [
       "{1: 'ARUN', 2: 'PARANDHAMAN', 3: 'JAYAPRAKASH'}"
      ]
     },
     "execution_count": 18,
     "metadata": {},
     "output_type": "execute_result"
    }
   ],
   "source": [
    "NAMES"
   ]
  },
  {
   "cell_type": "code",
   "execution_count": 21,
   "id": "ff8e23fc",
   "metadata": {},
   "outputs": [],
   "source": [
    "NAMES[2]=\"SIDDHES\""
   ]
  },
  {
   "cell_type": "code",
   "execution_count": 22,
   "id": "727f322a",
   "metadata": {},
   "outputs": [
    {
     "data": {
      "text/plain": [
       "{1: 'ARUN', 2: 'SIDDHES', 3: 'JAYAPRAKASH'}"
      ]
     },
     "execution_count": 22,
     "metadata": {},
     "output_type": "execute_result"
    }
   ],
   "source": [
    "NAMES"
   ]
  },
  {
   "cell_type": "code",
   "execution_count": 23,
   "id": "863b4656",
   "metadata": {},
   "outputs": [],
   "source": [
    "DETAIL={\"NAME\":\"SIDDHES\",\"AGE\":19,\"BG\":\"O+VE\"}"
   ]
  },
  {
   "cell_type": "code",
   "execution_count": 24,
   "id": "0c66b970",
   "metadata": {},
   "outputs": [
    {
     "data": {
      "text/plain": [
       "{'NAME': 'SIDDHES', 'AGE': 19, 'BG': 'O+VE'}"
      ]
     },
     "execution_count": 24,
     "metadata": {},
     "output_type": "execute_result"
    }
   ],
   "source": [
    "DETAIL"
   ]
  },
  {
   "cell_type": "code",
   "execution_count": 29,
   "id": "fed21175",
   "metadata": {},
   "outputs": [
    {
     "data": {
      "text/plain": [
       "{'NAME': 'SIDDHES', 'AGE': 19, 'BG': 'O+VE'}"
      ]
     },
     "execution_count": 29,
     "metadata": {},
     "output_type": "execute_result"
    }
   ],
   "source": [
    "DETAIL[\"NAME\"]"
   ]
  },
  {
   "cell_type": "code",
   "execution_count": 26,
   "id": "9666b831",
   "metadata": {},
   "outputs": [
    {
     "data": {
      "text/plain": [
       "3"
      ]
     },
     "execution_count": 26,
     "metadata": {},
     "output_type": "execute_result"
    }
   ],
   "source": [
    "len(DETAIL)"
   ]
  },
  {
   "cell_type": "code",
   "execution_count": 27,
   "id": "24bfb6e3",
   "metadata": {},
   "outputs": [
    {
     "data": {
      "text/plain": [
       "19"
      ]
     },
     "execution_count": 27,
     "metadata": {},
     "output_type": "execute_result"
    }
   ],
   "source": [
    "DETAIL[\"AGE\"]"
   ]
  },
  {
   "cell_type": "code",
   "execution_count": 28,
   "id": "59d246ad",
   "metadata": {},
   "outputs": [
    {
     "data": {
      "text/plain": [
       "'O+VE'"
      ]
     },
     "execution_count": 28,
     "metadata": {},
     "output_type": "execute_result"
    }
   ],
   "source": [
    "DETAIL[\"BG\"]"
   ]
  },
  {
   "cell_type": "code",
   "execution_count": 30,
   "id": "2be258aa",
   "metadata": {},
   "outputs": [
    {
     "data": {
      "text/plain": [
       "'SIDDHES'"
      ]
     },
     "execution_count": 30,
     "metadata": {},
     "output_type": "execute_result"
    }
   ],
   "source": [
    "DETAIL.pop('NAME')"
   ]
  },
  {
   "cell_type": "code",
   "execution_count": 3,
   "id": "0c13595e",
   "metadata": {},
   "outputs": [],
   "source": [
    "DETAIL2={\"SIDDHES;19\",\"PARANDHAMAN:18\",\"SRIRAM\"}"
   ]
  },
  {
   "cell_type": "code",
   "execution_count": 4,
   "id": "1717b00f",
   "metadata": {},
   "outputs": [
    {
     "data": {
      "text/plain": [
       "{'PARANDHAMAN:18', 'SIDDHES;19', 'SRIRAM'}"
      ]
     },
     "execution_count": 4,
     "metadata": {},
     "output_type": "execute_result"
    }
   ],
   "source": [
    "DETAIL2"
   ]
  },
  {
   "cell_type": "code",
   "execution_count": 5,
   "id": "b1af5aba",
   "metadata": {},
   "outputs": [],
   "source": [
    "DETAIL2.add(\"SARWAN\")"
   ]
  },
  {
   "cell_type": "code",
   "execution_count": 6,
   "id": "024daaa8",
   "metadata": {},
   "outputs": [
    {
     "data": {
      "text/plain": [
       "{'PARANDHAMAN:18', 'SARWAN', 'SIDDHES;19', 'SRIRAM'}"
      ]
     },
     "execution_count": 6,
     "metadata": {},
     "output_type": "execute_result"
    }
   ],
   "source": [
    "DETAIL2"
   ]
  },
  {
   "cell_type": "code",
   "execution_count": 7,
   "id": "0bbed344",
   "metadata": {},
   "outputs": [],
   "source": [
    "DETAIL2.update({\"KAUSHI\",\"DHARSHINI\"})"
   ]
  },
  {
   "cell_type": "code",
   "execution_count": 8,
   "id": "f4bea5e6",
   "metadata": {},
   "outputs": [
    {
     "data": {
      "text/plain": [
       "{'DHARSHINI', 'KAUSHI', 'PARANDHAMAN:18', 'SARWAN', 'SIDDHES;19', 'SRIRAM'}"
      ]
     },
     "execution_count": 8,
     "metadata": {},
     "output_type": "execute_result"
    }
   ],
   "source": [
    "DETAIL2"
   ]
  },
  {
   "cell_type": "code",
   "execution_count": 9,
   "id": "04c66688",
   "metadata": {},
   "outputs": [],
   "source": [
    "DETAIL3=frozenset({\"PRIYA\",\"JEEVITH\"})"
   ]
  },
  {
   "cell_type": "code",
   "execution_count": 10,
   "id": "8f8e912c",
   "metadata": {},
   "outputs": [
    {
     "data": {
      "text/plain": [
       "frozenset"
      ]
     },
     "execution_count": 10,
     "metadata": {},
     "output_type": "execute_result"
    }
   ],
   "source": [
    "type(DETAIL3)"
   ]
  },
  {
   "cell_type": "code",
   "execution_count": 11,
   "id": "2d3276d4",
   "metadata": {},
   "outputs": [
    {
     "name": "stdout",
     "output_type": "stream",
     "text": [
      "frozenset({'JEEVITH', 'PRIYA'})\n"
     ]
    }
   ],
   "source": [
    "print(DETAIL3)"
   ]
  },
  {
   "cell_type": "code",
   "execution_count": 12,
   "id": "6b3798e8",
   "metadata": {},
   "outputs": [
    {
     "data": {
      "text/plain": [
       "False"
      ]
     },
     "execution_count": 12,
     "metadata": {},
     "output_type": "execute_result"
    }
   ],
   "source": [
    "a=10\n",
    "b=76\n",
    "a>b"
   ]
  },
  {
   "cell_type": "code",
   "execution_count": 13,
   "id": "477c8486",
   "metadata": {},
   "outputs": [
    {
     "data": {
      "text/plain": [
       "False"
      ]
     },
     "execution_count": 13,
     "metadata": {},
     "output_type": "execute_result"
    }
   ],
   "source": [
    "a=89\n",
    "b=65\n",
    "a<b"
   ]
  },
  {
   "cell_type": "code",
   "execution_count": null,
   "id": "ac088085",
   "metadata": {},
   "outputs": [],
   "source": []
  }
 ],
 "metadata": {
  "kernelspec": {
   "display_name": "Python 3 (ipykernel)",
   "language": "python",
   "name": "python3"
  },
  "language_info": {
   "codemirror_mode": {
    "name": "ipython",
    "version": 3
   },
   "file_extension": ".py",
   "mimetype": "text/x-python",
   "name": "python",
   "nbconvert_exporter": "python",
   "pygments_lexer": "ipython3",
   "version": "3.9.13"
  }
 },
 "nbformat": 4,
 "nbformat_minor": 5
}
