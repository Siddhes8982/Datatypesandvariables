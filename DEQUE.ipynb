{
 "cells": [
  {
   "cell_type": "code",
   "execution_count": 1,
   "id": "4f0b0dc9",
   "metadata": {},
   "outputs": [],
   "source": [
    "graph={'college':['highway','collector office','tamil university','new bus stand','raniparadise'],\n",
    "      'highway':['collector office'],\n",
    "      'collector office':['tamil university'],\n",
    "      'tamil university':['new bus stand'],\n",
    "      'new bus stand':['raniparadise'],\n",
    "      'raniparadise' : ['periya kovil'],\n",
    "      'periya kovil':['raniparadise']}"
   ]
  },
  {
   "cell_type": "code",
   "execution_count": 2,
   "id": "ddd7f92e",
   "metadata": {},
   "outputs": [],
   "source": [
    "from queue import LifoQueue\n",
    "stack=LifoQueue\n",
    "def dfs(graph,start,goal,visited):\n",
    "    stack=[start]\n",
    "    while stack:\n",
    "        node=stack.pop()\n",
    "        if node not in visited:\n",
    "            visited.append(node)\n",
    "            if node==goal:\n",
    "                print(visited)\n",
    "            for neighbours in graph[node]:\n",
    "                dfs(graph,neighbours,goal,visited)\n",
    "                "
   ]
  },
  {
   "cell_type": "code",
   "execution_count": 4,
   "id": "2c355b76",
   "metadata": {},
   "outputs": [
    {
     "name": "stdout",
     "output_type": "stream",
     "text": [
      "['college', 'highway', 'collector office', 'tamil university', 'new bus stand', 'raniparadise', 'periya kovil']\n"
     ]
    }
   ],
   "source": [
    "dfs(graph,'college','periya kovil',[])"
   ]
  },
  {
   "cell_type": "code",
   "execution_count": null,
   "id": "f7d1d722",
   "metadata": {},
   "outputs": [],
   "source": []
  }
 ],
 "metadata": {
  "kernelspec": {
   "display_name": "Python 3 (ipykernel)",
   "language": "python",
   "name": "python3"
  },
  "language_info": {
   "codemirror_mode": {
    "name": "ipython",
    "version": 3
   },
   "file_extension": ".py",
   "mimetype": "text/x-python",
   "name": "python",
   "nbconvert_exporter": "python",
   "pygments_lexer": "ipython3",
   "version": "3.9.13"
  }
 },
 "nbformat": 4,
 "nbformat_minor": 5
}
