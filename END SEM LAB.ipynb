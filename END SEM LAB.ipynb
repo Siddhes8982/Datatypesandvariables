{
 "cells": [
  {
   "cell_type": "code",
   "execution_count": 49,
   "id": "ba00404c",
   "metadata": {},
   "outputs": [],
   "source": [
    "graph={'A':['J','B','G'],\n",
    "       'B':['D','A'],\n",
    "       'C':['H'],\n",
    "       'D':['H','B','J'],\n",
    "       'E':['I','F','G'],\n",
    "       'F':['H','I','E','G'],\n",
    "       'G':['A','F','J','E'],\n",
    "       'H':['C','F','I','D'],\n",
    "       'I':['E','F','H'],\n",
    "       'J':['D','A','G']}\n",
    "            "
   ]
  },
  {
   "cell_type": "code",
   "execution_count": 50,
   "id": "e821ab48",
   "metadata": {},
   "outputs": [],
   "source": [
    "from queue import LifoQueue"
   ]
  },
  {
   "cell_type": "code",
   "execution_count": 51,
   "id": "6d6fd361",
   "metadata": {},
   "outputs": [],
   "source": [
    "from queue import LifoQueue\n",
    "stack=LifoQueue\n",
    "def dfs(graph,start,goal,visited):\n",
    "    stack=[start]\n",
    "    while stack:\n",
    "        node=stack.pop()\n",
    "        if node not in visited:\n",
    "            visited.append(node)\n",
    "            if node==goal:\n",
    "                print(visited)\n",
    "            for neighbours in graph[node]:\n",
    "                dfs(graph,neighbours,goal,visited)"
   ]
  },
  {
   "cell_type": "code",
   "execution_count": 57,
   "id": "68f8c455",
   "metadata": {
    "scrolled": false
   },
   "outputs": [
    {
     "name": "stdout",
     "output_type": "stream",
     "text": [
      "['J', 'D', 'H', 'C']\n"
     ]
    }
   ],
   "source": [
    "dfs(graph,'J','C',[])"
   ]
  },
  {
   "cell_type": "code",
   "execution_count": null,
   "id": "0c6f2f89",
   "metadata": {},
   "outputs": [],
   "source": []
  },
  {
   "cell_type": "code",
   "execution_count": null,
   "id": "a598246d",
   "metadata": {},
   "outputs": [],
   "source": []
  }
 ],
 "metadata": {
  "kernelspec": {
   "display_name": "Python 3 (ipykernel)",
   "language": "python",
   "name": "python3"
  },
  "language_info": {
   "codemirror_mode": {
    "name": "ipython",
    "version": 3
   },
   "file_extension": ".py",
   "mimetype": "text/x-python",
   "name": "python",
   "nbconvert_exporter": "python",
   "pygments_lexer": "ipython3",
   "version": "3.9.13"
  }
 },
 "nbformat": 4,
 "nbformat_minor": 5
}
