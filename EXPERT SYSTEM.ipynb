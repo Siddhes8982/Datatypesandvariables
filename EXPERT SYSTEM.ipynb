{
 "cells": [
  {
   "cell_type": "code",
   "execution_count": 1,
   "id": "524bed25",
   "metadata": {},
   "outputs": [
    {
     "name": "stdout",
     "output_type": "stream",
     "text": [
      "\n",
      " welcome to bike workshop\n",
      "\n",
      " Your bike is working or not\n",
      "If any issues on your bike :yes\n",
      "What's the problem on your bike:\n",
      "1.Starting trouble\n",
      "2.Engine problem\n",
      "3.Brake adjustment\n",
      "4.Gear box\n",
      "5.List the conditions\n",
      "\n",
      "what is the condition of your bike :5\n",
      "Please enter your current condition of your bike:\n",
      "1.Rust problem\n",
      "2.Wheel lloyment\n",
      "3.Speedometer\n",
      "4.No problems faced\n",
      "\n",
      "Please enter the list of problem :4\n",
      "No problems faced in our bike\n"
     ]
    }
   ],
   "source": [
    "print(\"\\n welcome to bike workshop\")\n",
    "print(\"\\n Your bike is working or not\")\n",
    "a=input(\"If any issues on your bike :\")\n",
    "if a==\"yes\":\n",
    "    print(\"What's the problem on your bike:\\n1.Starting trouble\\n2.Engine problem\\n3.Brake adjustment\\n4.Gear box\\n5.List the conditions\\n\")\n",
    "    b=int(input(\"what is the condition of your bike :\"))\n",
    "    if b==1:\n",
    "        print(\"Starting trouble\")\n",
    "    elif b==2:\n",
    "        print(\"Engine problem\")\n",
    "    elif b==3:\n",
    "        print(\"Brake adjustment\")\n",
    "    elif b==4:\n",
    "        print(\"Gear box\")\n",
    "    else:\n",
    "        print(\"Please enter your current condition of your bike:\\n1.Rust problem\\n2.Wheel lloyment\\n3.Speedometer\\n4.No problems faced\\n\")\n",
    "        c=int(input(\"Please enter the list of problem :\"))\n",
    "        if c==1:\n",
    "            print(\"Rust problem\")\n",
    "        elif c==2:\n",
    "            print(\"Wheel alloyment\")\n",
    "        elif c==3:\n",
    "            print(\"Speedometer\")\n",
    "        else:\n",
    "            print(\"No problems faced in our bike\")"
   ]
  },
  {
   "cell_type": "code",
   "execution_count": null,
   "id": "e259b182",
   "metadata": {},
   "outputs": [],
   "source": []
  }
 ],
 "metadata": {
  "kernelspec": {
   "display_name": "Python 3 (ipykernel)",
   "language": "python",
   "name": "python3"
  },
  "language_info": {
   "codemirror_mode": {
    "name": "ipython",
    "version": 3
   },
   "file_extension": ".py",
   "mimetype": "text/x-python",
   "name": "python",
   "nbconvert_exporter": "python",
   "pygments_lexer": "ipython3",
   "version": "3.9.13"
  }
 },
 "nbformat": 4,
 "nbformat_minor": 5
}
