{
 "cells": [
  {
   "cell_type": "markdown",
   "id": "8c5f36d8",
   "metadata": {},
   "source": [
    "# FUNCTION"
   ]
  },
  {
   "cell_type": "code",
   "execution_count": 1,
   "id": "5dd4b2ef",
   "metadata": {},
   "outputs": [],
   "source": [
    "def add():\n",
    "    a=int(input(\"Enter the first number1:\"))\n",
    "    b=int(input(\"Enter the second number2:\"))\n",
    "    c=a+b\n",
    "    return c"
   ]
  },
  {
   "cell_type": "code",
   "execution_count": 2,
   "id": "c685b929",
   "metadata": {},
   "outputs": [
    {
     "name": "stdout",
     "output_type": "stream",
     "text": [
      "Enter the first number1:45\n",
      "Enter the second number2:64\n"
     ]
    },
    {
     "data": {
      "text/plain": [
       "109"
      ]
     },
     "execution_count": 2,
     "metadata": {},
     "output_type": "execute_result"
    }
   ],
   "source": [
    "add()"
   ]
  },
  {
   "cell_type": "code",
   "execution_count": 3,
   "id": "e7e6ee8a",
   "metadata": {},
   "outputs": [],
   "source": [
    "def eligiblity (age):\n",
    "    if age >=19:\n",
    "        print(\"you are eligiblle for voting\")\n",
    "    else:\n",
    "        print(\"you are not eligible for voting\")"
   ]
  },
  {
   "cell_type": "code",
   "execution_count": 4,
   "id": "e7f9a4f9",
   "metadata": {},
   "outputs": [
    {
     "name": "stdout",
     "output_type": "stream",
     "text": [
      "you are not eligible for voting\n"
     ]
    }
   ],
   "source": [
    "eligiblity(18)"
   ]
  },
  {
   "cell_type": "code",
   "execution_count": 15,
   "id": "0199a671",
   "metadata": {},
   "outputs": [],
   "source": [
    "def eligibilty(age):\n",
    "    if age >=19:\n",
    "        print(\"you are eligible to apply driving lincenes\")\n",
    "    else:\n",
    "        print(\"you are not eligible to apply driving lincenes\")"
   ]
  },
  {
   "cell_type": "code",
   "execution_count": 17,
   "id": "5d3f77a9",
   "metadata": {},
   "outputs": [
    {
     "name": "stdout",
     "output_type": "stream",
     "text": [
      "you are eligiblle for voting\n"
     ]
    }
   ],
   "source": [
    "eligiblity(19)"
   ]
  },
  {
   "cell_type": "code",
   "execution_count": null,
   "id": "98f86c22",
   "metadata": {},
   "outputs": [],
   "source": []
  }
 ],
 "metadata": {
  "kernelspec": {
   "display_name": "Python 3 (ipykernel)",
   "language": "python",
   "name": "python3"
  },
  "language_info": {
   "codemirror_mode": {
    "name": "ipython",
    "version": 3
   },
   "file_extension": ".py",
   "mimetype": "text/x-python",
   "name": "python",
   "nbconvert_exporter": "python",
   "pygments_lexer": "ipython3",
   "version": "3.11.4"
  }
 },
 "nbformat": 4,
 "nbformat_minor": 5
}
