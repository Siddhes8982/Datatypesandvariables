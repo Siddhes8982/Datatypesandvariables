{
 "cells": [
  {
   "cell_type": "code",
   "execution_count": null,
   "id": "15a87413",
   "metadata": {},
   "outputs": [],
   "source": [
    "chennai-baglore=347\n",
    "chennai-delhi=2196\n",
    "chennai-kolkata=1667\n",
    "banglore-delhi=2164\n",
    "banglore-kolkata=1875\n",
    "delhi-kolkata=1559\n",
    "all values in kms"
   ]
  },
  {
   "cell_type": "markdown",
   "id": "eea446d3",
   "metadata": {},
   "source": [
    "# Importing Random Library"
   ]
  },
  {
   "cell_type": "code",
   "execution_count": 38,
   "id": "e087d410",
   "metadata": {},
   "outputs": [],
   "source": [
    "import random"
   ]
  },
  {
   "cell_type": "markdown",
   "id": "ddb80f37",
   "metadata": {},
   "source": [
    "# Travelling Sales Man City Distance"
   ]
  },
  {
   "cell_type": "code",
   "execution_count": 39,
   "id": "45773b9a",
   "metadata": {},
   "outputs": [],
   "source": [
    "tsp=[[0,347,2196,1667],\n",
    "    [347,0,2164,1875],\n",
    "    [2196,2164,0,1559],\n",
    "    [1667,1875,1559,0]]"
   ]
  },
  {
   "cell_type": "markdown",
   "id": "f47f0a6c",
   "metadata": {},
   "source": [
    "# Random Solution Generator"
   ]
  },
  {
   "cell_type": "code",
   "execution_count": 40,
   "id": "61a10cc4",
   "metadata": {},
   "outputs": [],
   "source": [
    "def randomsolution(tsp):\n",
    "    cities=list(range(len(tsp)))\n",
    "    solution=[]\n",
    "    \n",
    "    for i in range(len(tsp)):\n",
    "        randomcity=cities[random.randint(0,len(cities)-1)]\n",
    "        solution.append(randomcity)\n",
    "        cities.remove(randomcity)\n",
    "        \n",
    "    return solution"
   ]
  },
  {
   "cell_type": "code",
   "execution_count": 41,
   "id": "06e9372d",
   "metadata": {
    "scrolled": true
   },
   "outputs": [
    {
     "name": "stdout",
     "output_type": "stream",
     "text": [
      "[2, 0, 3, 1]\n"
     ]
    }
   ],
   "source": [
    "solution=randomsolution(tsp)\n",
    "print(solution)"
   ]
  },
  {
   "cell_type": "markdown",
   "id": "00fc9220",
   "metadata": {},
   "source": [
    "# Calculating Lenght of Route"
   ]
  },
  {
   "cell_type": "code",
   "execution_count": 42,
   "id": "d4c777c4",
   "metadata": {},
   "outputs": [],
   "source": [
    "def routelenght(tsp,solution):\n",
    "    routelenght=0\n",
    "    for i in range(len(solution)):\n",
    "        routelenght+=tsp[solution[i-1]][i]\n",
    "        return routelenght"
   ]
  },
  {
   "cell_type": "code",
   "execution_count": 43,
   "id": "b9ddf59a",
   "metadata": {},
   "outputs": [
    {
     "data": {
      "text/plain": [
       "347"
      ]
     },
     "execution_count": 43,
     "metadata": {},
     "output_type": "execute_result"
    }
   ],
   "source": [
    "routelenght(tsp,solution)"
   ]
  },
  {
   "cell_type": "code",
   "execution_count": 44,
   "id": "fabfb660",
   "metadata": {},
   "outputs": [],
   "source": [
    "def getneighbours(solution):\n",
    "    neighbours=[]\n",
    "    for i in range(len(solution)):\n",
    "        for j in range(i+1,len(solution)):\n",
    "            neighbour=solution.copy()\n",
    "            neighbour[i]=solution[j]\n",
    "            neighbour[j]=solution[i]\n",
    "            neighbours.append(neighbour)\n",
    "    return neighbours"
   ]
  },
  {
   "cell_type": "code",
   "execution_count": 45,
   "id": "134a7d2a",
   "metadata": {},
   "outputs": [
    {
     "name": "stdout",
     "output_type": "stream",
     "text": [
      "[[0, 2, 3, 1], [3, 0, 2, 1], [1, 0, 3, 2], [2, 3, 0, 1], [2, 1, 3, 0], [2, 0, 1, 3]]\n"
     ]
    }
   ],
   "source": [
    "neighbours=getneighbours(solution)\n",
    "print(neighbours)"
   ]
  },
  {
   "cell_type": "code",
   "execution_count": 46,
   "id": "b86dc15f",
   "metadata": {},
   "outputs": [],
   "source": [
    "def getbestneighbour(tsp,neighbours):\n",
    "    bestroutelenght=routelenght(tsp,neighbours[0])\n",
    "    bestneighbour=neighbours[0]\n",
    "    for neighbour in neighbours:\n",
    "        currentroutelenght=routelenght(tsp,neighbour)\n",
    "        if currentroutelenght < bestroutelenght:\n",
    "            bestroutelenght=currentroutelenght\n",
    "            bestneighbour=neighbour\n",
    "        return bestneighbour,bestroutelenght"
   ]
  },
  {
   "cell_type": "code",
   "execution_count": 47,
   "id": "75bb341e",
   "metadata": {},
   "outputs": [
    {
     "data": {
      "text/plain": [
       "([0, 2, 3, 1], 347)"
      ]
     },
     "execution_count": 47,
     "metadata": {},
     "output_type": "execute_result"
    }
   ],
   "source": [
    "getbestneighbour(tsp,neighbours)"
   ]
  },
  {
   "cell_type": "markdown",
   "id": "ebe49cca",
   "metadata": {},
   "source": [
    "# Hill Climbing Algorithm"
   ]
  },
  {
   "cell_type": "code",
   "execution_count": 48,
   "id": "bb1ab2f5",
   "metadata": {},
   "outputs": [],
   "source": [
    "def hillclimbing(tsp):\n",
    "    currentsolution=randomsolution(tsp)\n",
    "    currentroutelength=routelength(tsp,currentsolution)\n",
    "    neighbours=getneighbours(currentsolution)\n",
    "    bestneighbour,bestneighbourroutelength=getbestneighbour(tsp,neighbours)\n",
    "    \n",
    "    while bestneighbourroutelength<currentroutelength:\n",
    "        currentsolution=bestneighbour\n",
    "        currentroutelength=bestneighbourroutelength\n",
    "        neighbour=getneighbours(currentsolution)\n",
    "        bestneighbour=bestneighbourroutelength=getbestneighbour(tsp,neighbour)\n",
    "    return currentsolution,currentroutelength"
   ]
  },
  {
   "cell_type": "code",
   "execution_count": 49,
   "id": "6a9836f6",
   "metadata": {},
   "outputs": [
    {
     "ename": "NameError",
     "evalue": "name 'routelength' is not defined",
     "output_type": "error",
     "traceback": [
      "\u001b[1;31m---------------------------------------------------------------------------\u001b[0m",
      "\u001b[1;31mNameError\u001b[0m                                 Traceback (most recent call last)",
      "Input \u001b[1;32mIn [49]\u001b[0m, in \u001b[0;36m<cell line: 1>\u001b[1;34m()\u001b[0m\n\u001b[1;32m----> 1\u001b[0m \u001b[38;5;28mprint\u001b[39m(\u001b[43mhillclimbing\u001b[49m\u001b[43m(\u001b[49m\u001b[43mtsp\u001b[49m\u001b[43m)\u001b[49m)\n",
      "Input \u001b[1;32mIn [48]\u001b[0m, in \u001b[0;36mhillclimbing\u001b[1;34m(tsp)\u001b[0m\n\u001b[0;32m      1\u001b[0m \u001b[38;5;28;01mdef\u001b[39;00m \u001b[38;5;21mhillclimbing\u001b[39m(tsp):\n\u001b[0;32m      2\u001b[0m     currentsolution\u001b[38;5;241m=\u001b[39mrandomsolution(tsp)\n\u001b[1;32m----> 3\u001b[0m     currentroutelength\u001b[38;5;241m=\u001b[39m\u001b[43mroutelength\u001b[49m(tsp,currentsolution)\n\u001b[0;32m      4\u001b[0m     neighbours\u001b[38;5;241m=\u001b[39mgetneighbours(currentsolution)\n\u001b[0;32m      5\u001b[0m     bestneighbour,bestneighbourroutelength\u001b[38;5;241m=\u001b[39mgetbestneighbour(tsp,neighbours)\n",
      "\u001b[1;31mNameError\u001b[0m: name 'routelength' is not defined"
     ]
    }
   ],
   "source": [
    "print(hillclimbing(tsp))"
   ]
  },
  {
   "cell_type": "code",
   "execution_count": null,
   "id": "0bd8ed48",
   "metadata": {},
   "outputs": [],
   "source": []
  }
 ],
 "metadata": {
  "kernelspec": {
   "display_name": "Python 3 (ipykernel)",
   "language": "python",
   "name": "python3"
  },
  "language_info": {
   "codemirror_mode": {
    "name": "ipython",
    "version": 3
   },
   "file_extension": ".py",
   "mimetype": "text/x-python",
   "name": "python",
   "nbconvert_exporter": "python",
   "pygments_lexer": "ipython3",
   "version": "3.9.13"
  }
 },
 "nbformat": 4,
 "nbformat_minor": 5
}
