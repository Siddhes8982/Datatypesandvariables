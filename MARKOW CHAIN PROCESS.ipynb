{
 "cells": [
  {
   "cell_type": "code",
   "execution_count": 1,
   "id": "12c74830",
   "metadata": {},
   "outputs": [],
   "source": [
    "from protopunica import *"
   ]
  },
  {
   "cell_type": "markdown",
   "id": "6e90fb58",
   "metadata": {},
   "source": [
    "image we have mr.markow who is a foodie.but he cannot cook all by himself,so he appointed by chef\n",
    "who needs to make sure he serve the best that keeps mr.markow healthy\n",
    "if mr.markow had a pizza for lunch then the probality that he is going to have a pizza is 75% and is \n",
    "25%.probable that he is going to have a vegetables and steek tommorow similarly mr.markow have the \n",
    "vegetables and steek for lunch today 60% sure that he will have the same lunch tommorow and 40% sure \n",
    "they he will have a pizza."
   ]
  },
  {
   "cell_type": "code",
   "execution_count": 2,
   "id": "b63037cb",
   "metadata": {},
   "outputs": [],
   "source": [
    "import numpy as np"
   ]
  },
  {
   "cell_type": "code",
   "execution_count": 3,
   "id": "bd4b7874",
   "metadata": {},
   "outputs": [],
   "source": [
    "Start=DiscreteDistribution({\"pizza\":1,\"veg\":0})"
   ]
  },
  {
   "cell_type": "code",
   "execution_count": 6,
   "id": "e51fad6a",
   "metadata": {},
   "outputs": [],
   "source": [
    "Transitions=ConditionalProbabilityTable([[\"pizza\",\"pizza\",0.75],\n",
    "                                    [\"pizza\",\"veg\",0.25],\n",
    "                                    [\"veg\",\"veg\",0.6],\n",
    "                                    [\"veg\",\"pizza\",0.4]],[Start])"
   ]
  },
  {
   "cell_type": "code",
   "execution_count": 10,
   "id": "7aa6d77c",
   "metadata": {},
   "outputs": [],
   "source": [
    "Model=MarkovChain([Start,Transitions])"
   ]
  },
  {
   "cell_type": "code",
   "execution_count": 11,
   "id": "19a92593",
   "metadata": {},
   "outputs": [],
   "source": [
    "Random_samples=Model.sample(3)"
   ]
  },
  {
   "cell_type": "code",
   "execution_count": 12,
   "id": "a403b079",
   "metadata": {},
   "outputs": [
    {
     "name": "stdout",
     "output_type": "stream",
     "text": [
      "['pizza', 'pizza', 'pizza']\n"
     ]
    }
   ],
   "source": [
    "print(Random_samples)"
   ]
  },
  {
   "cell_type": "code",
   "execution_count": 13,
   "id": "37c8b3eb",
   "metadata": {},
   "outputs": [],
   "source": [
    "log_probability=Model.log_probability(Random_samples)"
   ]
  },
  {
   "cell_type": "code",
   "execution_count": 14,
   "id": "8ab304a4",
   "metadata": {},
   "outputs": [],
   "source": [
    "probability_of_occurence=np.exp(log_probability)"
   ]
  },
  {
   "cell_type": "code",
   "execution_count": 15,
   "id": "7a6ba85f",
   "metadata": {},
   "outputs": [
    {
     "data": {
      "text/plain": [
       "0.5625"
      ]
     },
     "execution_count": 15,
     "metadata": {},
     "output_type": "execute_result"
    }
   ],
   "source": [
    "probability_of_occurence"
   ]
  },
  {
   "cell_type": "code",
   "execution_count": 16,
   "id": "c9ce1650",
   "metadata": {},
   "outputs": [],
   "source": [
    "log_probability_food_sequence=Model.log_probability([\"veg\",\"veg\",\"veg\"])"
   ]
  },
  {
   "cell_type": "code",
   "execution_count": 17,
   "id": "63540796",
   "metadata": {},
   "outputs": [],
   "source": [
    "probability_of_food=np.exp(log_probability_food_sequence)"
   ]
  },
  {
   "cell_type": "code",
   "execution_count": 18,
   "id": "75794f82",
   "metadata": {},
   "outputs": [
    {
     "name": "stdout",
     "output_type": "stream",
     "text": [
      "0.0\n"
     ]
    }
   ],
   "source": [
    "print(probability_of_food)"
   ]
  },
  {
   "cell_type": "code",
   "execution_count": null,
   "id": "843f2b85",
   "metadata": {},
   "outputs": [],
   "source": []
  }
 ],
 "metadata": {
  "kernelspec": {
   "display_name": "Python 3 (ipykernel)",
   "language": "python",
   "name": "python3"
  },
  "language_info": {
   "codemirror_mode": {
    "name": "ipython",
    "version": 3
   },
   "file_extension": ".py",
   "mimetype": "text/x-python",
   "name": "python",
   "nbconvert_exporter": "python",
   "pygments_lexer": "ipython3",
   "version": "3.9.13"
  }
 },
 "nbformat": 4,
 "nbformat_minor": 5
}
