{
 "cells": [
  {
   "cell_type": "markdown",
   "id": "6ce40b22",
   "metadata": {},
   "source": [
    "# PRINT"
   ]
  },
  {
   "cell_type": "code",
   "execution_count": 31,
   "id": "58bddc4f",
   "metadata": {},
   "outputs": [],
   "source": [
    "a=10"
   ]
  },
  {
   "cell_type": "code",
   "execution_count": 32,
   "id": "040ba427",
   "metadata": {},
   "outputs": [
    {
     "data": {
      "text/plain": [
       "10"
      ]
     },
     "execution_count": 32,
     "metadata": {},
     "output_type": "execute_result"
    }
   ],
   "source": [
    "a"
   ]
  },
  {
   "cell_type": "code",
   "execution_count": 3,
   "id": "273b8c0c",
   "metadata": {},
   "outputs": [
    {
     "name": "stdout",
     "output_type": "stream",
     "text": [
      "10\n"
     ]
    }
   ],
   "source": [
    "print(a)"
   ]
  },
  {
   "cell_type": "markdown",
   "id": "fb5b4664",
   "metadata": {},
   "source": [
    "# FORMAT"
   ]
  },
  {
   "cell_type": "code",
   "execution_count": 30,
   "id": "6ccdff1c",
   "metadata": {},
   "outputs": [
    {
     "name": "stdout",
     "output_type": "stream",
     "text": [
      "the value of 'a' is SIDDHESWAR\n"
     ]
    }
   ],
   "source": [
    "print(\"the value of 'a' is {}\".format(a))"
   ]
  },
  {
   "cell_type": "code",
   "execution_count": 27,
   "id": "ba9b4342",
   "metadata": {},
   "outputs": [],
   "source": [
    "a=\"SIDDHESWAR\""
   ]
  },
  {
   "cell_type": "code",
   "execution_count": 28,
   "id": "be794e8f",
   "metadata": {},
   "outputs": [
    {
     "data": {
      "text/plain": [
       "'SIDDHESWAR'"
      ]
     },
     "execution_count": 28,
     "metadata": {},
     "output_type": "execute_result"
    }
   ],
   "source": [
    "a"
   ]
  },
  {
   "cell_type": "code",
   "execution_count": 29,
   "id": "80e2b930",
   "metadata": {},
   "outputs": [
    {
     "name": "stdout",
     "output_type": "stream",
     "text": [
      "the value of 'a' is SIDDHESWAR\n"
     ]
    }
   ],
   "source": [
    "print(\"the value of 'a' is {}\".format(a))"
   ]
  },
  {
   "cell_type": "code",
   "execution_count": 9,
   "id": "64574a2d",
   "metadata": {},
   "outputs": [],
   "source": [
    "a=\"HARSHWARDHAN\""
   ]
  },
  {
   "cell_type": "code",
   "execution_count": 10,
   "id": "1e5d85f6",
   "metadata": {},
   "outputs": [
    {
     "data": {
      "text/plain": [
       "'HARSHWARDHAN'"
      ]
     },
     "execution_count": 10,
     "metadata": {},
     "output_type": "execute_result"
    }
   ],
   "source": [
    "a"
   ]
  },
  {
   "cell_type": "code",
   "execution_count": 25,
   "id": "a3a616d6",
   "metadata": {},
   "outputs": [
    {
     "name": "stdout",
     "output_type": "stream",
     "text": [
      "the value of 'a' is HARSHWARDHAN\n"
     ]
    }
   ],
   "source": [
    "print(\"the value of 'a' is {}\".format(a))"
   ]
  },
  {
   "cell_type": "code",
   "execution_count": 12,
   "id": "396c3c19",
   "metadata": {},
   "outputs": [],
   "source": [
    "NAME=\"SIDDHES\""
   ]
  },
  {
   "cell_type": "code",
   "execution_count": 23,
   "id": "9348bc69",
   "metadata": {},
   "outputs": [
    {
     "name": "stdout",
     "output_type": "stream",
     "text": [
      "my name is SIDDHES\n"
     ]
    }
   ],
   "source": [
    "print(\"my name is {}\".format(NAME))"
   ]
  },
  {
   "cell_type": "code",
   "execution_count": 19,
   "id": "e9f58ceb",
   "metadata": {},
   "outputs": [
    {
     "name": "stdout",
     "output_type": "stream",
     "text": [
      "my name is SIDDHES. I am in PMIST\n"
     ]
    }
   ],
   "source": [
    "print(\"my name is {name}. I am in {college}\".format(name='SIDDHES',college=\"PMIST\"))"
   ]
  },
  {
   "cell_type": "code",
   "execution_count": 21,
   "id": "7168df76",
   "metadata": {},
   "outputs": [
    {
     "name": "stdout",
     "output_type": "stream",
     "text": [
      "NAME SIDDHES. I am studied in PMIST\n"
     ]
    }
   ],
   "source": [
    "print(\"NAME {name}. I am studied in {college}\".format(name='SIDDHES',college=\"PMIST\"))"
   ]
  },
  {
   "cell_type": "markdown",
   "id": "521debe2",
   "metadata": {},
   "source": [
    "# F-PRINT"
   ]
  },
  {
   "cell_type": "code",
   "execution_count": 1,
   "id": "46b13722",
   "metadata": {
    "scrolled": true
   },
   "outputs": [
    {
     "name": "stdout",
     "output_type": "stream",
     "text": [
      "my name is SIDDHES. I am ROBOTICS engineer\n"
     ]
    }
   ],
   "source": [
    "print(f\"my name is {'SIDDHES'}. I am {'ROBOTICS'} engineer\")"
   ]
  },
  {
   "cell_type": "code",
   "execution_count": 2,
   "id": "a4e71bdf",
   "metadata": {},
   "outputs": [
    {
     "name": "stdout",
     "output_type": "stream",
     "text": [
      "my name is HARSHWARADHAN. I am ROBOTICS engineer\n"
     ]
    }
   ],
   "source": [
    "print(f\"my name is {'HARSHWARADHAN'}. I am {'ROBOTICS'} engineer\")"
   ]
  },
  {
   "cell_type": "code",
   "execution_count": 4,
   "id": "0cae58aa",
   "metadata": {},
   "outputs": [
    {
     "name": "stdout",
     "output_type": "stream",
     "text": [
      "my name is SIDDHES. I am SOFTWARE engineer\n"
     ]
    }
   ],
   "source": [
    "print(f\"my name is {'SIDDHES'}. I am {'SOFTWARE'} engineer\")"
   ]
  },
  {
   "cell_type": "code",
   "execution_count": 7,
   "id": "8b5cc0d2",
   "metadata": {},
   "outputs": [
    {
     "name": "stdout",
     "output_type": "stream",
     "text": [
      "my name is HARSWARADHAN. I am SOFTWARE engineer\n"
     ]
    }
   ],
   "source": [
    "print(f\"my name is {'HARSWARADHAN'}. I am {'SOFTWARE'} engineer\")"
   ]
  },
  {
   "cell_type": "markdown",
   "id": "1a9a1cc0",
   "metadata": {},
   "source": [
    "# TASK"
   ]
  },
  {
   "cell_type": "markdown",
   "id": "e10d3f3a",
   "metadata": {},
   "source": [
    "#### She sell \"sea\" shell in\"sea shore\""
   ]
  },
  {
   "cell_type": "markdown",
   "id": "751995f6",
   "metadata": {},
   "source": [
    "# USER INPUT"
   ]
  },
  {
   "cell_type": "code",
   "execution_count": 8,
   "id": "58f0e1a1",
   "metadata": {},
   "outputs": [
    {
     "name": "stdout",
     "output_type": "stream",
     "text": [
      "8982\n"
     ]
    }
   ],
   "source": [
    "var=input()"
   ]
  },
  {
   "cell_type": "code",
   "execution_count": 9,
   "id": "946d0ab6",
   "metadata": {},
   "outputs": [
    {
     "data": {
      "text/plain": [
       "'8982'"
      ]
     },
     "execution_count": 9,
     "metadata": {},
     "output_type": "execute_result"
    }
   ],
   "source": [
    "var"
   ]
  },
  {
   "cell_type": "code",
   "execution_count": 21,
   "id": "eaa6720f",
   "metadata": {},
   "outputs": [
    {
     "name": "stdout",
     "output_type": "stream",
     "text": [
      "SIDDHES\n"
     ]
    }
   ],
   "source": [
    "var1=input()"
   ]
  },
  {
   "cell_type": "code",
   "execution_count": 11,
   "id": "fd5463b5",
   "metadata": {},
   "outputs": [
    {
     "data": {
      "text/plain": [
       "'\"SIDDHES\"'"
      ]
     },
     "execution_count": 11,
     "metadata": {},
     "output_type": "execute_result"
    }
   ],
   "source": [
    "var"
   ]
  },
  {
   "cell_type": "code",
   "execution_count": 12,
   "id": "806fd51a",
   "metadata": {},
   "outputs": [
    {
     "name": "stdout",
     "output_type": "stream",
     "text": [
      "SIDDHES\n"
     ]
    }
   ],
   "source": [
    "var2=input()"
   ]
  },
  {
   "cell_type": "code",
   "execution_count": 13,
   "id": "80fda0e8",
   "metadata": {},
   "outputs": [
    {
     "data": {
      "text/plain": [
       "'SIDDHES'"
      ]
     },
     "execution_count": 13,
     "metadata": {},
     "output_type": "execute_result"
    }
   ],
   "source": [
    "var"
   ]
  },
  {
   "cell_type": "code",
   "execution_count": 14,
   "id": "20e94851",
   "metadata": {},
   "outputs": [
    {
     "name": "stdout",
     "output_type": "stream",
     "text": [
      "age20\n"
     ]
    }
   ],
   "source": [
    "var3=input(\"age\")"
   ]
  },
  {
   "cell_type": "code",
   "execution_count": 15,
   "id": "0bc08107",
   "metadata": {},
   "outputs": [
    {
     "data": {
      "text/plain": [
       "'20'"
      ]
     },
     "execution_count": 15,
     "metadata": {},
     "output_type": "execute_result"
    }
   ],
   "source": [
    "var"
   ]
  },
  {
   "cell_type": "code",
   "execution_count": 16,
   "id": "07f6a645",
   "metadata": {},
   "outputs": [
    {
     "name": "stdout",
     "output_type": "stream",
     "text": [
      "89+43\n"
     ]
    },
    {
     "data": {
      "text/plain": [
       "'89+43'"
      ]
     },
     "execution_count": 16,
     "metadata": {},
     "output_type": "execute_result"
    }
   ],
   "source": [
    "input()"
   ]
  },
  {
   "cell_type": "code",
   "execution_count": 20,
   "id": "6896332d",
   "metadata": {},
   "outputs": [
    {
     "name": "stdout",
     "output_type": "stream",
     "text": [
      "NAME SIDDHESWAR\n"
     ]
    }
   ],
   "source": [
    "var4=input(\"NAME\")"
   ]
  },
  {
   "cell_type": "code",
   "execution_count": 22,
   "id": "559a28bb",
   "metadata": {},
   "outputs": [
    {
     "name": "stdout",
     "output_type": "stream",
     "text": [
      "PMIST\n"
     ]
    }
   ],
   "source": [
    "var5=input()"
   ]
  },
  {
   "cell_type": "code",
   "execution_count": 24,
   "id": "004c4e5b",
   "metadata": {},
   "outputs": [
    {
     "data": {
      "text/plain": [
       "'PMIST'"
      ]
     },
     "execution_count": 24,
     "metadata": {},
     "output_type": "execute_result"
    }
   ],
   "source": [
    "var5"
   ]
  },
  {
   "cell_type": "code",
   "execution_count": 25,
   "id": "ab58902a",
   "metadata": {},
   "outputs": [
    {
     "data": {
      "text/plain": [
       "str"
      ]
     },
     "execution_count": 25,
     "metadata": {},
     "output_type": "execute_result"
    }
   ],
   "source": [
    "type(var)"
   ]
  },
  {
   "cell_type": "code",
   "execution_count": 26,
   "id": "f611ec8f",
   "metadata": {},
   "outputs": [
    {
     "data": {
      "text/plain": [
       "str"
      ]
     },
     "execution_count": 26,
     "metadata": {},
     "output_type": "execute_result"
    }
   ],
   "source": [
    "type(\"NAME\")"
   ]
  },
  {
   "cell_type": "code",
   "execution_count": 28,
   "id": "a73bb513",
   "metadata": {},
   "outputs": [
    {
     "data": {
      "text/plain": [
       "' SIDDHESWAR'"
      ]
     },
     "execution_count": 28,
     "metadata": {},
     "output_type": "execute_result"
    }
   ],
   "source": [
    "var"
   ]
  },
  {
   "cell_type": "code",
   "execution_count": null,
   "id": "354aa1ca",
   "metadata": {},
   "outputs": [],
   "source": []
  }
 ],
 "metadata": {
  "kernelspec": {
   "display_name": "Python 3 (ipykernel)",
   "language": "python",
   "name": "python3"
  },
  "language_info": {
   "codemirror_mode": {
    "name": "ipython",
    "version": 3
   },
   "file_extension": ".py",
   "mimetype": "text/x-python",
   "name": "python",
   "nbconvert_exporter": "python",
   "pygments_lexer": "ipython3",
   "version": "3.9.17"
  }
 },
 "nbformat": 4,
 "nbformat_minor": 5
}
