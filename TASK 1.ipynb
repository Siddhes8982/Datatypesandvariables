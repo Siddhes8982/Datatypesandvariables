{
 "cells": [
  {
   "cell_type": "code",
   "execution_count": 7,
   "id": "02f0b97b",
   "metadata": {},
   "outputs": [],
   "source": [
    "graph={'college':['highway','collector office','tamil university','new bus stand','raniparadise'],\n",
    "      'highway':['collector office'],\n",
    "      'collector office':['tamil university'],\n",
    "      'tamil university':['new bus stand'],\n",
    "      'new bus stand':['raniparadise'],\n",
    "      'raniparadise' : ['periya kovil'],\n",
    "      'periya kovil':['raniparadise']}"
   ]
  },
  {
   "cell_type": "code",
   "execution_count": 8,
   "id": "77c65a56",
   "metadata": {},
   "outputs": [],
   "source": [
    "from collections import deque\n",
    "def BFS(graph,start,goal):\n",
    "    visited=[]\n",
    "    queue=deque([start])\n",
    "    while queue:\n",
    "        node=queue.popleft()\n",
    "        if node not in visited:\n",
    "            visited.append(node)\n",
    "            print('i have visited:',node)\n",
    "            neighbournode=graph[node]\n",
    "            if node==goal:\n",
    "                print('i have reached the goal,the path i travelled is',visited)\n",
    "                \n",
    "            for neighbours in neighbournode:\n",
    "                queue.append(neighbours)"
   ]
  },
  {
   "cell_type": "code",
   "execution_count": 9,
   "id": "c5c10444",
   "metadata": {},
   "outputs": [
    {
     "name": "stdout",
     "output_type": "stream",
     "text": [
      "i have visited: college\n",
      "i have visited: highway\n",
      "i have visited: collector office\n",
      "i have visited: tamil university\n",
      "i have visited: new bus stand\n",
      "i have visited: raniparadise\n",
      "i have visited: periya kovil\n",
      "i have reached the goal,the path i travelled is ['college', 'highway', 'collector office', 'tamil university', 'new bus stand', 'raniparadise', 'periya kovil']\n"
     ]
    }
   ],
   "source": [
    "BFS(graph,'college','periya kovil')"
   ]
  },
  {
   "cell_type": "code",
   "execution_count": null,
   "id": "f6997979",
   "metadata": {},
   "outputs": [],
   "source": []
  }
 ],
 "metadata": {
  "kernelspec": {
   "display_name": "Python 3 (ipykernel)",
   "language": "python",
   "name": "python3"
  },
  "language_info": {
   "codemirror_mode": {
    "name": "ipython",
    "version": 3
   },
   "file_extension": ".py",
   "mimetype": "text/x-python",
   "name": "python",
   "nbconvert_exporter": "python",
   "pygments_lexer": "ipython3",
   "version": "3.9.13"
  }
 },
 "nbformat": 4,
 "nbformat_minor": 5
}
