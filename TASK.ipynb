{
 "cells": [
  {
   "cell_type": "code",
   "execution_count": 12,
   "id": "1c9169ee",
   "metadata": {},
   "outputs": [],
   "source": [
    "NAMES1={'Name':\"SIDDHESWAR\",'REG NO':\"122012012831\",'CALSS':\"B.Tech CSE\",'BATCH':\"2022-2026\"}"
   ]
  },
  {
   "cell_type": "code",
   "execution_count": 13,
   "id": "8fd4556a",
   "metadata": {},
   "outputs": [
    {
     "data": {
      "text/plain": [
       "dict"
      ]
     },
     "execution_count": 13,
     "metadata": {},
     "output_type": "execute_result"
    }
   ],
   "source": [
    "type(NAMES1)"
   ]
  },
  {
   "cell_type": "code",
   "execution_count": 14,
   "id": "8b707f53",
   "metadata": {},
   "outputs": [
    {
     "data": {
      "text/plain": [
       "{'Name': 'SIDDHESWAR',\n",
       " 'REG NO': '122012012831',\n",
       " 'CALSS': 'B.Tech CSE',\n",
       " 'BATCH': '2022-2026'}"
      ]
     },
     "execution_count": 14,
     "metadata": {},
     "output_type": "execute_result"
    }
   ],
   "source": [
    "NAMES1"
   ]
  },
  {
   "cell_type": "code",
   "execution_count": 15,
   "id": "56a4cf5d",
   "metadata": {},
   "outputs": [],
   "source": [
    "NAMES2={'Name':\"RITHISH BALAJI\",'REG NO':\"122012012876\",'CALSS':\"B.Tech CSE\",'BATCH':\"2022-2026\"}"
   ]
  },
  {
   "cell_type": "code",
   "execution_count": 16,
   "id": "d8cb3e62",
   "metadata": {},
   "outputs": [
    {
     "data": {
      "text/plain": [
       "dict"
      ]
     },
     "execution_count": 16,
     "metadata": {},
     "output_type": "execute_result"
    }
   ],
   "source": [
    "type(NAMES2)"
   ]
  },
  {
   "cell_type": "code",
   "execution_count": 17,
   "id": "c74e7955",
   "metadata": {},
   "outputs": [
    {
     "data": {
      "text/plain": [
       "{'Name': 'RITHISH BALAJI',\n",
       " 'REG NO': '122012012876',\n",
       " 'CALSS': 'B.Tech CSE',\n",
       " 'BATCH': '2022-2026'}"
      ]
     },
     "execution_count": 17,
     "metadata": {},
     "output_type": "execute_result"
    }
   ],
   "source": [
    "NAMES2"
   ]
  },
  {
   "cell_type": "code",
   "execution_count": 18,
   "id": "ae69ecc4",
   "metadata": {},
   "outputs": [],
   "source": [
    "NAMES3={'Name':\"MOHAMMED WASIM\",'REG NO':\"122012012868\",'CALSS':\"B.Tech CSE\",'BATCH':\"2022-2026\"}"
   ]
  },
  {
   "cell_type": "code",
   "execution_count": 19,
   "id": "454c7fe7",
   "metadata": {},
   "outputs": [
    {
     "data": {
      "text/plain": [
       "dict"
      ]
     },
     "execution_count": 19,
     "metadata": {},
     "output_type": "execute_result"
    }
   ],
   "source": [
    "type(NAMES3)"
   ]
  },
  {
   "cell_type": "code",
   "execution_count": 20,
   "id": "a18b5603",
   "metadata": {},
   "outputs": [
    {
     "data": {
      "text/plain": [
       "{'Name': 'MOHAMMED WASIM',\n",
       " 'REG NO': '122012012868',\n",
       " 'CALSS': 'B.Tech CSE',\n",
       " 'BATCH': '2022-2026'}"
      ]
     },
     "execution_count": 20,
     "metadata": {},
     "output_type": "execute_result"
    }
   ],
   "source": [
    "NAMES3"
   ]
  },
  {
   "cell_type": "code",
   "execution_count": 21,
   "id": "ae7db935",
   "metadata": {},
   "outputs": [
    {
     "name": "stdout",
     "output_type": "stream",
     "text": [
      "{'Name': 'SIDDHESWAR', 'REG NO': '122012012831', 'CALSS': 'B.Tech CSE', 'BATCH': '2022-2026'}\n"
     ]
    }
   ],
   "source": [
    "print(NAMES1)"
   ]
  },
  {
   "cell_type": "code",
   "execution_count": 22,
   "id": "2c44a71e",
   "metadata": {},
   "outputs": [
    {
     "name": "stdout",
     "output_type": "stream",
     "text": [
      "{'Name': 'RITHISH BALAJI', 'REG NO': '122012012876', 'CALSS': 'B.Tech CSE', 'BATCH': '2022-2026'}\n"
     ]
    }
   ],
   "source": [
    "print(NAMES2)"
   ]
  },
  {
   "cell_type": "code",
   "execution_count": 23,
   "id": "bf734004",
   "metadata": {},
   "outputs": [
    {
     "name": "stdout",
     "output_type": "stream",
     "text": [
      "{'Name': 'MOHAMMED WASIM', 'REG NO': '122012012868', 'CALSS': 'B.Tech CSE', 'BATCH': '2022-2026'}\n"
     ]
    }
   ],
   "source": [
    "print(NAMES3)"
   ]
  },
  {
   "cell_type": "code",
   "execution_count": 24,
   "id": "4caea8ee",
   "metadata": {},
   "outputs": [
    {
     "ename": "SyntaxError",
     "evalue": "EOL while scanning string literal (1526462911.py, line 1)",
     "output_type": "error",
     "traceback": [
      "\u001b[1;36m  Cell \u001b[1;32mIn[24], line 1\u001b[1;36m\u001b[0m\n\u001b[1;33m    print(f\"My Name is{'SIDDHES'}. Reg No{'122012012831'}. Class{'B.Tech CSE'}. Batch{'2022-2026'})\u001b[0m\n\u001b[1;37m                                                                                                   ^\u001b[0m\n\u001b[1;31mSyntaxError\u001b[0m\u001b[1;31m:\u001b[0m EOL while scanning string literal\n"
     ]
    }
   ],
   "source": [
    "print(f\"My Name is{'SIDDHES'}. Reg No{'122012012831'}. Class{'B.Tech CSE'}. Batch{'2022-2026'})"
   ]
  },
  {
   "cell_type": "code",
   "execution_count": null,
   "id": "fbdf7ea9",
   "metadata": {},
   "outputs": [],
   "source": []
  }
 ],
 "metadata": {
  "kernelspec": {
   "display_name": "Python 3 (ipykernel)",
   "language": "python",
   "name": "python3"
  },
  "language_info": {
   "codemirror_mode": {
    "name": "ipython",
    "version": 3
   },
   "file_extension": ".py",
   "mimetype": "text/x-python",
   "name": "python",
   "nbconvert_exporter": "python",
   "pygments_lexer": "ipython3",
   "version": "3.9.17"
  }
 },
 "nbformat": 4,
 "nbformat_minor": 5
}
