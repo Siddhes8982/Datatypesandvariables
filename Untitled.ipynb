{
 "cells": [
  {
   "cell_type": "code",
   "execution_count": 5,
   "id": "c0126a2a",
   "metadata": {},
   "outputs": [],
   "source": [
    "graph={'pkc':['stadium','parking','tree'],\n",
    "      'stadium':['main block'],\n",
    "      'parking':['junction'],\n",
    "      'junction':['entrance','main block'],\n",
    "       'entrance':['junction'],\n",
    "       'main block':['junction'],\n",
    "       'tree':['pkc']}"
   ]
  },
  {
   "cell_type": "code",
   "execution_count": 9,
   "id": "a7f2a944",
   "metadata": {},
   "outputs": [],
   "source": [
    "from collections import deque\n",
    "def BFS(graph,start,goal):\n",
    "    visited=[]\n",
    "    queue=deque([start])\n",
    "    while queue:\n",
    "        node=queue.popleft()\n",
    "        if node not in visited:\n",
    "            visited.append(node)\n",
    "            print('i have visited:',node)\n",
    "            neighbournode=graph[node]\n",
    "            if node==goal:\n",
    "                print('i have reached the goal,the path i travelled is',visited)\n",
    "                \n",
    "            for neighbours in neighbournode:\n",
    "                queue.append(neighbours)"
   ]
  },
  {
   "cell_type": "code",
   "execution_count": 10,
   "id": "3920b08c",
   "metadata": {},
   "outputs": [
    {
     "name": "stdout",
     "output_type": "stream",
     "text": [
      "i have visited: stadium\n",
      "i have visited: main block\n",
      "i have reached the goal,the path i travelled is ['stadium', 'main block']\n",
      "i have visited: junction\n",
      "i have visited: entrance\n"
     ]
    }
   ],
   "source": [
    "BFS(graph,'stadium','main block')"
   ]
  },
  {
   "cell_type": "markdown",
   "id": "2792234d",
   "metadata": {},
   "source": [
    "# TASK"
   ]
  },
  {
   "cell_type": "code",
   "execution_count": 14,
   "id": "aee9a2c1",
   "metadata": {},
   "outputs": [],
   "source": [
    "graph={'college':['highway','collector office','new bus stand','raniparadise'],\n",
    "      'highway':['collector office'],\n",
    "      'collector office':['new bus stand'],\n",
    "      'new bus stand':['raniparadise'],\n",
    "      'raniparadise':['periya kovil'],\n",
    "      'periya kovil' : ['raniparadise']}"
   ]
  },
  {
   "cell_type": "code",
   "execution_count": 15,
   "id": "0ab6d9ad",
   "metadata": {},
   "outputs": [],
   "source": [
    "from collections import deque\n",
    "def BFS(graph,start,goal):\n",
    "    visited=[]\n",
    "    queue=deque([start])\n",
    "    while queue:\n",
    "        node=queue.popleft()\n",
    "        if node not in visited:\n",
    "            visited.append(node)\n",
    "            print('i have visited:',node)\n",
    "            neighbournode=graph[node]\n",
    "            if node==goal:\n",
    "                print('i have reached the goal,the path i travelled is',visited)\n",
    "                \n",
    "            for neighbours in neighbournode:\n",
    "                queue.append(neighbours)"
   ]
  },
  {
   "cell_type": "code",
   "execution_count": 16,
   "id": "f32e24d9",
   "metadata": {
    "scrolled": false
   },
   "outputs": [
    {
     "name": "stdout",
     "output_type": "stream",
     "text": [
      "i have visited: college\n",
      "i have visited: highway\n",
      "i have visited: collector office\n",
      "i have visited: new bus stand\n",
      "i have visited: raniparadise\n",
      "i have visited: periya kovil\n",
      "i have reached the goal,the path i travelled is ['college', 'highway', 'collector office', 'new bus stand', 'raniparadise', 'periya kovil']\n"
     ]
    }
   ],
   "source": [
    "graph,'college',)"
   ]
  },
  {
   "cell_type": "code",
   "execution_count": null,
   "id": "1e37f2cb",
   "metadata": {},
   "outputs": [],
   "source": []
  }
 ],
 "metadata": {
  "kernelspec": {
   "display_name": "Python 3 (ipykernel)",
   "language": "python",
   "name": "python3"
  },
  "language_info": {
   "codemirror_mode": {
    "name": "ipython",
    "version": 3
   },
   "file_extension": ".py",
   "mimetype": "text/x-python",
   "name": "python",
   "nbconvert_exporter": "python",
   "pygments_lexer": "ipython3",
   "version": "3.9.13"
  }
 },
 "nbformat": 4,
 "nbformat_minor": 5
}
